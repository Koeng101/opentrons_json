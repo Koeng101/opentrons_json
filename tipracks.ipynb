{
 "cells": [
  {
   "cell_type": "code",
   "execution_count": 1,
   "metadata": {},
   "outputs": [],
   "source": [
    "import string\n",
    "from itertools import groupby\n",
    "\n",
    "class Plate():\n",
    "    def __init__(self, height:int, length:int) -> None:\n",
    "        positions = []\n",
    "        for letter in list(string.ascii_uppercase[0:height]):\n",
    "            for number in range(length):\n",
    "                positions.append((letter, number+1))\n",
    "        self.height = height\n",
    "        self.length = length\n",
    "        self.locations = [x[0]+str(x[1]) for x in positions]\n",
    "    def rows(self)-> list:\n",
    "        return [list(g) for k, g in groupby(self.locations, key=lambda x: x[0])]\n",
    "    def columns(self) -> list:\n",
    "        return [[x for x in self.locations if x[1:] == str(num+1)] for num in range(self.length)]\n",
    "    def reverse_columns(self)-> list:\n",
    "        return [sorted(x, reverse=True) for x in self.columns()]\n",
    "        \n",
    "standard96 = Plate(8,12)\n",
    "standard384 = Plate(16,24)\n",
    "\n",
    "class TipRack(Plate):\n",
    "    def __init__(self,height:int=8,length:int=12)-> None:\n",
    "        super(TipRack,self).__init__(height,length)\n",
    "    \n",
    "    def use_tip(self,tips:list)-> list:\n",
    "        self.locations = [v for i, v in enumerate(self.locations) if v not in tips]\n",
    "        return tips[-1]"
   ]
  },
  {
   "cell_type": "code",
   "execution_count": 7,
   "metadata": {},
   "outputs": [
    {
     "data": {
      "text/plain": [
       "'A1'"
      ]
     },
     "execution_count": 7,
     "metadata": {},
     "output_type": "execute_result"
    }
   ],
   "source": [
    "tips = TipRack()\n",
    "tips.use_tip(['A1'])"
   ]
  },
  {
   "cell_type": "code",
   "execution_count": 8,
   "metadata": {},
   "outputs": [
    {
     "data": {
      "text/plain": [
       "[['H1', 'G1', 'F1', 'E1', 'D1', 'C1', 'B1'],\n",
       " ['H2', 'G2', 'F2', 'E2', 'D2', 'C2', 'B2', 'A2'],\n",
       " ['H3', 'G3', 'F3', 'E3', 'D3', 'C3', 'B3', 'A3'],\n",
       " ['H4', 'G4', 'F4', 'E4', 'D4', 'C4', 'B4', 'A4'],\n",
       " ['H5', 'G5', 'F5', 'E5', 'D5', 'C5', 'B5', 'A5'],\n",
       " ['H6', 'G6', 'F6', 'E6', 'D6', 'C6', 'B6', 'A6'],\n",
       " ['H7', 'G7', 'F7', 'E7', 'D7', 'C7', 'B7', 'A7'],\n",
       " ['H8', 'G8', 'F8', 'E8', 'D8', 'C8', 'B8', 'A8'],\n",
       " ['H9', 'G9', 'F9', 'E9', 'D9', 'C9', 'B9', 'A9'],\n",
       " ['H10', 'G10', 'F10', 'E10', 'D10', 'C10', 'B10', 'A10'],\n",
       " ['H11', 'G11', 'F11', 'E11', 'D11', 'C11', 'B11', 'A11'],\n",
       " ['H12', 'G12', 'F12', 'E12', 'D12', 'C12', 'B12', 'A12']]"
      ]
     },
     "execution_count": 8,
     "metadata": {},
     "output_type": "execute_result"
    }
   ],
   "source": [
    "tips.reverse_columns()"
   ]
  },
  {
   "cell_type": "code",
   "execution_count": null,
   "metadata": {},
   "outputs": [],
   "source": []
  }
 ],
 "metadata": {
  "kernelspec": {
   "display_name": "Python 3",
   "language": "python",
   "name": "python3"
  },
  "language_info": {
   "codemirror_mode": {
    "name": "ipython",
    "version": 3
   },
   "file_extension": ".py",
   "mimetype": "text/x-python",
   "name": "python",
   "nbconvert_exporter": "python",
   "pygments_lexer": "ipython3",
   "version": "3.7.2"
  }
 },
 "nbformat": 4,
 "nbformat_minor": 2
}
