{
 "cells": [
  {
   "cell_type": "code",
   "execution_count": 23,
   "metadata": {},
   "outputs": [],
   "source": [
    "import opentrons_json as oj\n",
    "from opentrons_json import plates,commands\n",
    "import uuid\n",
    "from jsonschema import validate\n",
    "import json\n",
    "with open('opentrons_json/protocol-schema.json') as f:\n",
    "    data = json.load(f)\n",
    "import pandas as pd"
   ]
  },
  {
   "cell_type": "code",
   "execution_count": 48,
   "metadata": {},
   "outputs": [],
   "source": [
    "pipette = str(uuid.uuid4())\n",
    "tip_box = \"tip_box\"\n",
    "\n",
    "protocol = {\n",
    "    \"protocol-schema\": \"1.0.0\",\n",
    "\n",
    "  \"metadata\": {\n",
    "    \"protocol-name\": \"Example transfer protocol\",\n",
    "    \"author\": \"Keoni Gandall\",\n",
    "  },\n",
    "    \"default-values\": oj.default_values,\n",
    "    \"designer-application\": oj.designer_application,\n",
    "    \"robot\": oj.ot2_standard,\n",
    "    \"pipettes\": {pipette:oj.pipette(\"left\", \"p300_single\", \"p300_single_v1.3\")},\n",
    "    \"labware\": {\n",
    "        tip_box: oj.labware('10',\"opentrons-tiprack-300ul\"),\n",
    "    },\n",
    "    \"procedure\": [\n",
    "        {\"subprocedure\": [\n",
    "        oj.commands.aspirate(pipette,50,plate_1,'A1'),\n",
    "        oj.commands.dispense(pipette,50,plate_2,'A2')]}]\n",
    "}"
   ]
  },
  {
   "cell_type": "code",
   "execution_count": 57,
   "metadata": {},
   "outputs": [],
   "source": [
    "options = ['glycerol-plate_1',\n",
    " 'glycerol-plate_10',\n",
    " 'glycerol-plate_11',\n",
    " 'glycerol-plate_12',\n",
    " 'glycerol-plate_13',\n",
    " 'glycerol-plate_15',\n",
    " 'glycerol-plate_16',\n",
    " 'glycerol-plate_17',\n",
    " 'glycerol-plate_18',\n",
    " 'glycerol-plate_19',\n",
    " 'glycerol-plate_2',\n",
    " 'glycerol-plate_20',\n",
    " 'glycerol-plate_21',\n",
    " 'glycerol-plate_22',\n",
    " 'glycerol-plate_23',\n",
    " 'glycerol-plate_24',\n",
    " 'glycerol-plate_3',\n",
    " 'glycerol-plate_4',\n",
    " 'glycerol-plate_5',\n",
    " 'glycerol-plate_6',\n",
    " 'glycerol-plate_8']\n",
    "\n",
    "collections_loc = pd.read_csv('./../../analysis/collections_loc.csv')[['gene_id','organism','plate_location','address','target','target_plate']]\n",
    "\n",
    "for option in options:\n",
    "    desired_plate = collections_loc[collections_loc['plate_location'] == option]\n",
    "    list_of_target_plates = list(set(desired_plate['target_plate'].tolist()))\n",
    "    \n",
    "    new_protocol=json.loads(json.dumps(protocol)) # set new protocol instance\n",
    "    commands = [] # set new commands\n",
    "    \n",
    "    new_protocol['labware'][option] = oj.labware('11','96-flat')\n",
    "    \n",
    "    for index,target_plate in enumerate(list_of_target_plates):\n",
    "        new_protocol['labware'][target_plate] = oj.labware(str(index+1),'96-flat')\n",
    "        desired_scope = desired_plate[desired_plate['target_plate'] == target_plate]\n",
    "        \n",
    "        for index,row in desired_scope.iterrows():\n",
    "            commands.append(oj.commands.aspirate(pipette,50,option,row['address']))\n",
    "            commands.append(oj.commands.dispense(pipette,50,target_plate,plates.standard96.locations[int(row['target'])]))\n",
    "    \n",
    "    new_protocol['procedure'] = [{\"subprocedure\": commands}]\n",
    "    validate(instance=new_protocol,schema=data)\n",
    "    with open('/home/koeng/gits/opentrons_json/freegenes_move/{}.json'.format(option), 'w') as fp:\n",
    "        json.dump(new_protocol, fp)"
   ]
  }
 ],
 "metadata": {
  "kernelspec": {
   "display_name": "Python 3",
   "language": "python",
   "name": "python3"
  },
  "language_info": {
   "codemirror_mode": {
    "name": "ipython",
    "version": 3
   },
   "file_extension": ".py",
   "mimetype": "text/x-python",
   "name": "python",
   "nbconvert_exporter": "python",
   "pygments_lexer": "ipython3",
   "version": "3.7.2"
  }
 },
 "nbformat": 4,
 "nbformat_minor": 2
}
