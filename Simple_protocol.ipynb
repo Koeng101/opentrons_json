{
 "cells": [
  {
   "cell_type": "code",
   "execution_count": 63,
   "metadata": {},
   "outputs": [],
   "source": [
    "import opentrons_json as oj\n",
    "from opentrons_json import plates,commands\n",
    "import uuid\n",
    "from jsonschema import validate\n",
    "import json\n",
    "with open('opentrons_json/protocol-schema.json') as f:\n",
    "    data = json.load(f)\n",
    "import pandas as pd"
   ]
  },
  {
   "cell_type": "code",
   "execution_count": 64,
   "metadata": {},
   "outputs": [],
   "source": [
    "pipette = str(uuid.uuid4())\n",
    "tip_box = \"tip_box\"\n",
    "trash = \"trash\"\n",
    "\n",
    "protocol = {\n",
    "    \"protocol-schema\": \"1.0.0\",\n",
    "\n",
    "  \"metadata\": {\n",
    "    \"protocol-name\": \"Example transfer protocol\",\n",
    "    \"author\": \"Keoni Gandall\",\n",
    "  },\n",
    "    \"default-values\": oj.default_values,\n",
    "    \"designer-application\": oj.designer_application,\n",
    "    \"robot\": oj.ot2_standard,\n",
    "    \"pipettes\": {pipette:oj.pipette(\"left\", \"p300_single\", \"p300_single_v1.3\")},\n",
    "    \"labware\": {\n",
    "        tip_box: oj.labware('10',\"opentrons-tiprack-300ul\",name=\"300ul tip box\"),\n",
    "        trash: oj.labware('12',\"fixed-trash\",name=\"Trash yo\")\n",
    "    },\n",
    "    \"procedure\": [\n",
    "        {\"subprocedure\": [\n",
    "        oj.commands.aspirate(pipette,50,plate_1,'A1'),\n",
    "        oj.commands.dispense(pipette,50,plate_2,'A2')]}]\n",
    "}"
   ]
  },
  {
   "cell_type": "code",
   "execution_count": 70,
   "metadata": {},
   "outputs": [],
   "source": [
    "options = ['glycerol-plate_1',\n",
    " 'glycerol-plate_10',\n",
    " 'glycerol-plate_11',\n",
    " 'glycerol-plate_12',\n",
    " 'glycerol-plate_13',\n",
    " 'glycerol-plate_15',\n",
    " 'glycerol-plate_16',\n",
    " 'glycerol-plate_17',\n",
    " 'glycerol-plate_18',\n",
    " 'glycerol-plate_19',\n",
    " 'glycerol-plate_2',\n",
    " 'glycerol-plate_20',\n",
    " 'glycerol-plate_21',\n",
    " 'glycerol-plate_22',\n",
    " 'glycerol-plate_23',\n",
    " 'glycerol-plate_24',\n",
    " 'glycerol-plate_3',\n",
    " 'glycerol-plate_4',\n",
    " 'glycerol-plate_5',\n",
    " 'glycerol-plate_6',\n",
    " 'glycerol-plate_8']\n",
    "\n",
    "collections_loc = pd.read_csv('./../../analysis/collections_loc.csv')[['gene_id','organism','plate_location','address','target','target_plate']]\n",
    "\n",
    "for option in options:\n",
    "    desired_plate = collections_loc[collections_loc['plate_location'] == option]\n",
    "    list_of_target_plates = list(set(desired_plate['target_plate'].tolist()))\n",
    "    \n",
    "    new_protocol=json.loads(json.dumps(protocol)) # set new protocol instance\n",
    "    commands = [] # set new commands\n",
    "    \n",
    "    new_protocol['labware'][option] = oj.labware('11','96-flat',name=option)\n",
    "    \n",
    "    for plate_index,target_plate in enumerate(list_of_target_plates):\n",
    "        new_protocol['labware'][target_plate] = oj.labware(str(plate_index+1),'96-flat',name=target_plate)\n",
    "        desired_scope = desired_plate[desired_plate['target_plate'] == target_plate].reset_index(drop=True)\n",
    "        \n",
    "        for index,row in desired_scope.iterrows():\n",
    "            commands.append(oj.commands.pick_up_tip(pipette,tip_box,plates.standard96.locations[index]))\n",
    "            commands.append(oj.commands.aspirate(pipette,50,option,row['address']))\n",
    "            commands.append(oj.commands.dispense(pipette,50,target_plate,plates.standard96.locations[int(row['target'])]))\n",
    "            commands.append(oj.commands.drop_tip(pipette,trash,'A1'))\n",
    "    \n",
    "    new_protocol['procedure'] = [{\"subprocedure\": commands}]\n",
    "    validate(instance=new_protocol,schema=data)\n",
    "    with open('/home/koeng/gits/opentrons_json/freegenes_move/{}.json'.format(option), 'w') as fp:\n",
    "        json.dump(new_protocol, fp)\n",
    "        \n",
    "    "
   ]
  },
  {
   "cell_type": "code",
   "execution_count": 59,
   "metadata": {},
   "outputs": [
    {
     "name": "stdout",
     "output_type": "stream",
     "text": [
      "{'protocol-schema': '1.0.0', 'metadata': {'protocol-name': 'Example transfer protocol', 'author': 'Keoni Gandall'}, 'default-values': {'aspirate-flow-rate': {'p10_single': 5, 'p10_multi': 5, 'p50_single': 25, 'p50_multi': 25, 'p300_single': 150, 'p300_multi': 150, 'p1000_single': 500}, 'dispense-flow-rate': {'p10_single': 10, 'p10_multi': 10, 'p50_single': 50, 'p50_multi': 50, 'p300_single': 300, 'p300_multi': 300, 'p1000_single': 1000}, 'aspirate-mm-from-bottom': 1, 'dispense-mm-from-bottom': 0.5, 'touch-tip-mm-from-top': -1}, 'designer-application': {'application-name': 'opentrons_json', 'application-version': '1.0.0', 'data': {}}, 'robot': {'model': 'OT-2 Standard'}, 'pipettes': {'9dfd597f-9e1b-4735-a104-66f6c19b0a82': {'type': 'pipette', 'mount': 'left', 'name': 'p300_single', 'model': 'p300_single_v1.3'}}, 'labware': {'tip_box': {'slot': '10', 'model': 'opentrons-tiprack-300ul', 'name': None}, 'glycerol-plate_8': {'slot': '11', 'model': '96-flat', 'name': None}, 'Mycoplasma_syn3_2': {'slot': '1', 'model': '96-flat', 'name': None}}, 'procedure': [{'subprocedure': [{'command': 'aspirate', 'params': {'pipette': '9dfd597f-9e1b-4735-a104-66f6c19b0a82', 'volume': 50, 'labware': 'glycerol-plate_8', 'well': 'E2'}}, {'command': 'dispense', 'params': {'pipette': '9dfd597f-9e1b-4735-a104-66f6c19b0a82', 'volume': 50, 'labware': 'Mycoplasma_syn3_2', 'well': 'H4'}}, {'command': 'aspirate', 'params': {'pipette': '9dfd597f-9e1b-4735-a104-66f6c19b0a82', 'volume': 50, 'labware': 'glycerol-plate_8', 'well': 'F3'}}, {'command': 'dispense', 'params': {'pipette': '9dfd597f-9e1b-4735-a104-66f6c19b0a82', 'volume': 50, 'labware': 'Mycoplasma_syn3_2', 'well': 'H5'}}, {'command': 'aspirate', 'params': {'pipette': '9dfd597f-9e1b-4735-a104-66f6c19b0a82', 'volume': 50, 'labware': 'glycerol-plate_8', 'well': 'G2'}}, {'command': 'dispense', 'params': {'pipette': '9dfd597f-9e1b-4735-a104-66f6c19b0a82', 'volume': 50, 'labware': 'Mycoplasma_syn3_2', 'well': 'H6'}}]}]}\n"
     ]
    }
   ],
   "source": [
    "print(new_protocol)"
   ]
  }
 ],
 "metadata": {
  "kernelspec": {
   "display_name": "Python 3",
   "language": "python",
   "name": "python3"
  },
  "language_info": {
   "codemirror_mode": {
    "name": "ipython",
    "version": 3
   },
   "file_extension": ".py",
   "mimetype": "text/x-python",
   "name": "python",
   "nbconvert_exporter": "python",
   "pygments_lexer": "ipython3",
   "version": "3.7.2"
  }
 },
 "nbformat": 4,
 "nbformat_minor": 2
}
