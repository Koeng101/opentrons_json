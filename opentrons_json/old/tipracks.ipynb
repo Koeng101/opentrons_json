{
 "cells": [
  {
   "cell_type": "code",
   "execution_count": 28,
   "metadata": {},
   "outputs": [],
   "source": [
    "import string\n",
    "from itertools import groupby\n",
    "\n",
    "class Plate():\n",
    "    def __init__(self, height:int, length:int) -> None:\n",
    "        positions = []\n",
    "        for letter in list(string.ascii_uppercase[0:height]):\n",
    "            for number in range(length):\n",
    "                positions.append((letter, number+1))\n",
    "        self.height = height\n",
    "        self.length = length\n",
    "        self.locations = [x[0]+str(x[1]) for x in positions]\n",
    "    def rows(self)-> list:\n",
    "        return [list(g) for k, g in groupby(self.locations, key=lambda x: x[0])]\n",
    "    def columns(self) -> list:\n",
    "        return [[x for x in self.locations if x[1:] == str(num+1)] for num in range(self.length)]\n",
    "    def reverse_columns(self)-> list:\n",
    "        return [sorted(x, reverse=True) for x in self.columns()]\n",
    "        \n",
    "standard96 = Plate(8,12)\n",
    "standard384 = Plate(16,24)\n",
    "\n",
    "class TipRack(Plate):\n",
    "    def __init__(self,height:int=8,length:int=12)-> None:\n",
    "        super(TipRack,self).__init__(height,length)\n",
    "    \n",
    "    def use_tips(self,tips:list)-> str:\n",
    "        self.locations = [v for i, v in enumerate(self.locations) if v not in tips]\n",
    "        return tips[-1]\n",
    "    \n",
    "    def use_number(self,num_tips:int=8) -> str:\n",
    "        for column in tip.reverse_columns():\n",
    "            if len(column) >= num_tips:\n",
    "                return self.use_tips(column[0:num_tips])\n",
    "        raise ValueError(\"No more tips.\")\n",
    "                \n",
    "                "
   ]
  },
  {
   "cell_type": "code",
   "execution_count": 46,
   "metadata": {},
   "outputs": [
    {
     "data": {
      "text/plain": [
       "['A1', 'A2']"
      ]
     },
     "execution_count": 46,
     "metadata": {},
     "output_type": "execute_result"
    }
   ],
   "source": [
    "standard96.rows()[0][0:2]"
   ]
  },
  {
   "cell_type": "code",
   "execution_count": 8,
   "metadata": {},
   "outputs": [
    {
     "data": {
      "text/plain": [
       "[['H1', 'G1', 'F1', 'E1', 'D1', 'C1', 'B1'],\n",
       " ['H2', 'G2', 'F2', 'E2', 'D2', 'C2', 'B2', 'A2'],\n",
       " ['H3', 'G3', 'F3', 'E3', 'D3', 'C3', 'B3', 'A3'],\n",
       " ['H4', 'G4', 'F4', 'E4', 'D4', 'C4', 'B4', 'A4'],\n",
       " ['H5', 'G5', 'F5', 'E5', 'D5', 'C5', 'B5', 'A5'],\n",
       " ['H6', 'G6', 'F6', 'E6', 'D6', 'C6', 'B6', 'A6'],\n",
       " ['H7', 'G7', 'F7', 'E7', 'D7', 'C7', 'B7', 'A7'],\n",
       " ['H8', 'G8', 'F8', 'E8', 'D8', 'C8', 'B8', 'A8'],\n",
       " ['H9', 'G9', 'F9', 'E9', 'D9', 'C9', 'B9', 'A9'],\n",
       " ['H10', 'G10', 'F10', 'E10', 'D10', 'C10', 'B10', 'A10'],\n",
       " ['H11', 'G11', 'F11', 'E11', 'D11', 'C11', 'B11', 'A11'],\n",
       " ['H12', 'G12', 'F12', 'E12', 'D12', 'C12', 'B12', 'A12']]"
      ]
     },
     "execution_count": 8,
     "metadata": {},
     "output_type": "execute_result"
    }
   ],
   "source": [
    "tips.reverse_columns()"
   ]
  },
  {
   "cell_type": "code",
   "execution_count": 55,
   "metadata": {},
   "outputs": [],
   "source": [
    "from opentrons import ProtocolContext as protocol_context\n",
    "# metadata\n",
    "metadata = {\n",
    "    'protocolName': 'Test protocol',\n",
    "    'author': 'Keoni Gandall <koeng101@gmail.com>',\n",
    "    'description': 'Simple protocol to get started using OT2',\n",
    "    'source': 'Opentrons Protocol Tutorial'\n",
    "}\n",
    "\n",
    "def run(protocol_context):\n",
    "    \n",
    "    # Establish tipracks\n",
    "    tips_10 = TipRack()\n",
    "    tips_300 = TipRack()\n",
    "    tiprack_10 = protocol_context.load_labware_by_name('opentrons_96_tiprack_10_uL', '10')\n",
    "    tiprack_300 = protocol_context.load_labware_by_name('opentrons_96_tiprack_300_uL', '11')\n",
    "\n",
    "    # labware\n",
    "    reagents = protocol_context.load_labware_by_name('generic_96_wellPlate_380_uL', '4')\n",
    "    magdeck = protocol_context.load_module('Magnetic Module', '5')\n",
    "    dna_output = magdeck.load_labware_by_name('generic_96_wellPlate_380_uL')\n",
    "    tube_rack = protocol_context.load_labware_by_name('generic_96_wellPlate_380_uL', '6') # didn't want to figure out configuring tube racks, I do everything in plates\n",
    "    final = protocol_context.load_module('generic_96_wellPlate_380_uL', '1')\n",
    "    \n",
    "    # cheat codes\n",
    "    atm = reagents.columns[0]\n",
    "    npm = reagents.columns[1]\n",
    "    beads = reagents.columns[2]\n",
    "    dna_target = dna_output.wells(standard96.rows()[0][0:2])\n",
    "    \n",
    "    i7_targets = tube_rack.wells('A3','A4')\n",
    "    \n",
    "\n",
    "    \n",
    "    # pipettes\n",
    "    pipette_10 = protocol_context.load_instrument('p10_multi', 'left', tip_racks=[tiprack_10])\n",
    "    pipette_300 = protocol_context.load_instrument('p300_multi', 'right', tip_racks=[tiprack_300])\n",
    "\n",
    "    \n",
    "    # commands\n",
    "    pipette_10.pick_up_tip().wells(tips_10.use_number(8))\n",
    "    pipette_10.transfer(5,atm,dna_target,mix_after=(4,3),trash=True,new_tip='never')\n",
    "    \n",
    "    # Don't be evil, use a new tip for every index\n",
    "    for index,i7 in enumerate(i7_targets):\n",
    "        for well in standard96.columns()[index]:\n",
    "            pipette_10.pick_up_tip().wells(tips_10.use_number(1))\n",
    "            pipette_10.transfer(5,i7,well,trash=True,new_tip='never')\n",
    "    # i5 time\n",
    "    for column in standard96.rows()[0][0:2]:\n",
    "        pipette_10.pick_up_tip().wells(tips_10.use_number(8))\n",
    "        pipette_10.transfer(5,tube_rack.wells(column),dna_output.wells(column),trash=True,new_tip='never')\n",
    "        \n",
    "             \n",
    "    pipette_10.pick_up_tip().wells(tips_10.use_number(8))\n",
    "    pipette_10.transfer(15,npm,dna_target,mix_after=(4,3),trash=True,new_tip='never',touch_tip=True)\n",
    "    \n",
    "    pipette_300.pick_up_tip().wells(tips_300.use_number(8))\n",
    "    pipette_300.transfer(30,beads,dna_target,mix_after=(20,30),trash=True,new_tip='never')\n",
    "    \n",
    "    protocol_context.delay(minutes=5)\n",
    "    \n",
    "    magdeck.engage()\n",
    "    protocol_context.delay(minutes=2)\n",
    "    \n",
    "    for column in standard96.rows()[0][0:2]: \n",
    "        pipette_10.pick_up_tip().wells(tips_10.use_number(8))\n",
    "        pipette_10.transfer(20,dna_output.wells(column).top(),final.wells(column),trash=True,new_tip='never')\n",
    "    \n",
    "    magdeck.disengage()\n",
    "\n",
    "    "
   ]
  },
  {
   "cell_type": "code",
   "execution_count": 51,
   "metadata": {},
   "outputs": [],
   "source": [
    "from opentrons import ProtocolContext as protocol_context"
   ]
  }
 ],
 "metadata": {
  "kernelspec": {
   "display_name": "Python 3",
   "language": "python",
   "name": "python3"
  },
  "language_info": {
   "codemirror_mode": {
    "name": "ipython",
    "version": 3
   },
   "file_extension": ".py",
   "mimetype": "text/x-python",
   "name": "python",
   "nbconvert_exporter": "python",
   "pygments_lexer": "ipython3",
   "version": "3.7.2"
  }
 },
 "nbformat": 4,
 "nbformat_minor": 2
}
